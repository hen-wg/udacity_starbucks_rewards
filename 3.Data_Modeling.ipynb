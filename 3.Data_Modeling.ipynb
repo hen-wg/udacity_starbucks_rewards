{
 "cells": [
  {
   "cell_type": "markdown",
   "metadata": {},
   "source": [
    "# Data Modeling\n",
    "We now have combined and cleaned data that can be used for modelling. Our dataset `offer_complete_df` contains all the offer viewed records for the bogo and discount offer types. Each record indicated if the offer that was viewed was also completed by the user.\n",
    "\n",
    "We will use this information to predict if, for a given offer and user with their demographics, the offer will be completed."
   ]
  },
  {
   "cell_type": "code",
   "execution_count": 161,
   "metadata": {},
   "outputs": [],
   "source": [
    "import pandas as pd\n",
    "import numpy as np\n",
    "import warnings\n",
    "warnings.simplefilter(action='ignore', category=FutureWarning)\n",
    "import matplotlib.pyplot as plt\n",
    "import seaborn as sns\n",
    "\n",
    "import xgboost as xgb\n",
    "from sklearn.model_selection import train_test_split, GridSearchCV\n",
    "from sklearn.metrics import accuracy_score, precision_score, recall_score, f1_score, roc_auc_score\n",
    "\n",
    "# read parquet files into dataframes\n",
    "# offer_df = pd.read_parquet('data/offer_df.parquet')\n",
    "offer_complete_df = pd.read_parquet('data/offer_complete_df.parquet')\n",
    "transaction_df = pd.read_parquet('data/transaction_df.parquet')"
   ]
  },
  {
   "cell_type": "code",
   "execution_count": 162,
   "metadata": {},
   "outputs": [
    {
     "data": {
      "text/html": [
       "<div>\n",
       "<style scoped>\n",
       "    .dataframe tbody tr th:only-of-type {\n",
       "        vertical-align: middle;\n",
       "    }\n",
       "\n",
       "    .dataframe tbody tr th {\n",
       "        vertical-align: top;\n",
       "    }\n",
       "\n",
       "    .dataframe thead th {\n",
       "        text-align: right;\n",
       "    }\n",
       "</style>\n",
       "<table border=\"1\" class=\"dataframe\">\n",
       "  <thead>\n",
       "    <tr style=\"text-align: right;\">\n",
       "      <th></th>\n",
       "      <th>age</th>\n",
       "      <th>income</th>\n",
       "      <th>days_as_member</th>\n",
       "      <th>F</th>\n",
       "      <th>M</th>\n",
       "      <th>O</th>\n",
       "      <th>reward</th>\n",
       "      <th>difficulty</th>\n",
       "      <th>duration</th>\n",
       "      <th>bogo</th>\n",
       "      <th>discount</th>\n",
       "      <th>email</th>\n",
       "      <th>mobile</th>\n",
       "      <th>social</th>\n",
       "      <th>web</th>\n",
       "      <th>offer_viewed_and_completed</th>\n",
       "    </tr>\n",
       "  </thead>\n",
       "  <tbody>\n",
       "    <tr>\n",
       "      <th>45253</th>\n",
       "      <td>55.0</td>\n",
       "      <td>114000.0</td>\n",
       "      <td>2644.0</td>\n",
       "      <td>1.0</td>\n",
       "      <td>0.0</td>\n",
       "      <td>0.0</td>\n",
       "      <td>2.0</td>\n",
       "      <td>10.0</td>\n",
       "      <td>7.0</td>\n",
       "      <td>0.0</td>\n",
       "      <td>1.0</td>\n",
       "      <td>1.0</td>\n",
       "      <td>1.0</td>\n",
       "      <td>0.0</td>\n",
       "      <td>1.0</td>\n",
       "      <td>0</td>\n",
       "    </tr>\n",
       "    <tr>\n",
       "      <th>172098</th>\n",
       "      <td>68.0</td>\n",
       "      <td>105000.0</td>\n",
       "      <td>2851.0</td>\n",
       "      <td>1.0</td>\n",
       "      <td>0.0</td>\n",
       "      <td>0.0</td>\n",
       "      <td>10.0</td>\n",
       "      <td>10.0</td>\n",
       "      <td>5.0</td>\n",
       "      <td>1.0</td>\n",
       "      <td>0.0</td>\n",
       "      <td>1.0</td>\n",
       "      <td>1.0</td>\n",
       "      <td>1.0</td>\n",
       "      <td>1.0</td>\n",
       "      <td>1</td>\n",
       "    </tr>\n",
       "    <tr>\n",
       "      <th>227272</th>\n",
       "      <td>59.0</td>\n",
       "      <td>95000.0</td>\n",
       "      <td>2622.0</td>\n",
       "      <td>0.0</td>\n",
       "      <td>1.0</td>\n",
       "      <td>0.0</td>\n",
       "      <td>5.0</td>\n",
       "      <td>5.0</td>\n",
       "      <td>5.0</td>\n",
       "      <td>1.0</td>\n",
       "      <td>0.0</td>\n",
       "      <td>1.0</td>\n",
       "      <td>1.0</td>\n",
       "      <td>1.0</td>\n",
       "      <td>1.0</td>\n",
       "      <td>1</td>\n",
       "    </tr>\n",
       "  </tbody>\n",
       "</table>\n",
       "</div>"
      ],
      "text/plain": [
       "         age    income  days_as_member    F    M    O  reward  difficulty  \\\n",
       "45253   55.0  114000.0          2644.0  1.0  0.0  0.0     2.0        10.0   \n",
       "172098  68.0  105000.0          2851.0  1.0  0.0  0.0    10.0        10.0   \n",
       "227272  59.0   95000.0          2622.0  0.0  1.0  0.0     5.0         5.0   \n",
       "\n",
       "        duration  bogo  discount  email  mobile  social  web  \\\n",
       "45253        7.0   0.0       1.0    1.0     1.0     0.0  1.0   \n",
       "172098       5.0   1.0       0.0    1.0     1.0     1.0  1.0   \n",
       "227272       5.0   1.0       0.0    1.0     1.0     1.0  1.0   \n",
       "\n",
       "        offer_viewed_and_completed  \n",
       "45253                            0  \n",
       "172098                           1  \n",
       "227272                           1  "
      ]
     },
     "execution_count": 162,
     "metadata": {},
     "output_type": "execute_result"
    }
   ],
   "source": [
    "offer_complete_df.sample(n=3)"
   ]
  },
  {
   "cell_type": "code",
   "execution_count": 163,
   "metadata": {},
   "outputs": [
    {
     "data": {
      "text/plain": [
       "(40500, 16)"
      ]
     },
     "execution_count": 163,
     "metadata": {},
     "output_type": "execute_result"
    }
   ],
   "source": [
    "offer_complete_df.shape"
   ]
  },
  {
   "cell_type": "markdown",
   "metadata": {},
   "source": [
    "We do not have highly imbalanced data."
   ]
  },
  {
   "cell_type": "code",
   "execution_count": 164,
   "metadata": {},
   "outputs": [
    {
     "data": {
      "text/plain": [
       "1    0.554568\n",
       "0    0.445432\n",
       "Name: offer_viewed_and_completed, dtype: float64"
      ]
     },
     "execution_count": 164,
     "metadata": {},
     "output_type": "execute_result"
    }
   ],
   "source": [
    "# we do not have imbalanced data (can use accuracy as metric)\n",
    "offer_complete_df.offer_viewed_and_completed.value_counts(normalize=True)"
   ]
  },
  {
   "cell_type": "code",
   "execution_count": 165,
   "metadata": {},
   "outputs": [
    {
     "data": {
      "image/png": "[encoded data removed]",
      "text/plain": [
       "<Figure size 600x600 with 1 Axes>"
      ]
     },
     "metadata": {},
     "output_type": "display_data"
    }
   ],
   "source": [
    "# plot how many of the offers viewed are also completed\n",
    "data = offer_complete_df.offer_viewed_and_completed.value_counts(normalize=True)\n",
    "\n",
    "# Visualize data\n",
    "plt.figure(figsize=(6, 6))\n",
    "sns.set_palette(\"Blues\")  \n",
    "plt.pie(data, labels=data.index, autopct='%1.1f%%', startangle=90)\n",
    "plt.title(\"Offer viewed and completed\")\n",
    "plt.show()\n"
   ]
  },
  {
   "cell_type": "markdown",
   "metadata": {},
   "source": [
    "## Model\n",
    "We will be using the sklearn framework and an XGBoost model (binary classification) to do this prediction."
   ]
  },
  {
   "cell_type": "code",
   "execution_count": 166,
   "metadata": {},
   "outputs": [
    {
     "name": "stdout",
     "output_type": "stream",
     "text": [
      "F1-score: 72.87%\n",
      "Precision: 70.07%\n",
      "Recall: 75.91%\n",
      "Accuracy: 68.57%\n"
     ]
    }
   ],
   "source": [
    "data = offer_complete_df\n",
    "# assign offer_viewed_and_completed as target column\n",
    "X,y = data.iloc[:,:-1], data['offer_viewed_and_completed']\n",
    "\n",
    "# Split the dataset into teain and test\n",
    "X_train, X_test, y_train, y_test = train_test_split(X, y, test_size=0.3, random_state=42)\n",
    "\n",
    "# Initialize the model\n",
    "xgb_model = xgb.XGBClassifier()\n",
    "\n",
    "# Fit the model \n",
    "xgb_model.fit(X_train, y_train)\n",
    "\n",
    "# Make predictions on the testing data\n",
    "y_pred = xgb_model.predict(X_test)\n",
    "\n",
    "# Calculate evaluation metrics\n",
    "accuracy = accuracy_score(y_test, y_pred)\n",
    "precision = precision_score(y_test, y_pred)\n",
    "recall = recall_score(y_test, y_pred)\n",
    "f1 = f1_score(y_test, y_pred)\n",
    "auc = roc_auc_score(y_test, y_pred)\n",
    "\n",
    "# Print the evaluation metrics\n",
    "print(\"F1-score:\", f\"{round(f1*100,2)}%\")\n",
    "print(\"Precision:\", f\"{round(precision*100,2)}%\")\n",
    "print(\"Recall:\", f\"{round(recall*100,2)}%\")\n",
    "print(\"Accuracy:\", f\"{round(accuracy*100,2)}%\")\n"
   ]
  },
  {
   "cell_type": "code",
   "execution_count": 167,
   "metadata": {},
   "outputs": [],
   "source": [
    "# add the metrics to a datafram"
   ]
  },
  {
   "cell_type": "markdown",
   "metadata": {},
   "source": [
    "#### Model results interpretation\n",
    "The model achieved the following:  \n",
    "Accuracy: The model predicted whether a user would complete and offer or not 68% of the time.  \n",
    "Precision: 70% of the time that a model predicted an offer would be completed was correct.  \n",
    "Recall: The model was able to identify 75% of the cases where an offer would be completed.  \n",
    "F1-score: This metric balances precision and recall with a score of 72%.  \n",
    "\n",
    "A potential way in which we can improve this model is by using grid search to select the best parameters for the model."
   ]
  },
  {
   "cell_type": "code",
   "execution_count": 168,
   "metadata": {},
   "outputs": [
    {
     "name": "stdout",
     "output_type": "stream",
     "text": [
      "F1-score: 72.96%\n",
      "Precision: 70.05%\n",
      "Recall: 76.12%\n",
      "Accuracy: 68.62%\n"
     ]
    }
   ],
   "source": [
    "data = offer_complete_df\n",
    "# assign offer_viewed_and_completed as target column\n",
    "X, y = data.iloc[:, :-1], data['offer_viewed_and_completed']\n",
    "\n",
    "# Split the dataset into teain and test\n",
    "X_train, X_test, y_train, y_test = train_test_split(X, y, test_size=0.3, random_state=42)\n",
    "\n",
    "# Initialize the model\n",
    "xgb_model = xgb.XGBClassifier()\n",
    "\n",
    "# Set up grid search parameter grid\n",
    "param_grid = {\n",
    "    'n_estimators': [100, 200, 300],\n",
    "    'max_depth': [3, 5, 7],\n",
    "    'learning_rate': [0.1, 0.01, 0.001]\n",
    "}\n",
    "\n",
    "# Perform grid search, using the f1 metric\n",
    "grid_search = GridSearchCV(estimator=xgb_model, param_grid=param_grid, cv=3, scoring='f1')\n",
    "grid_search.fit(X_train, y_train)\n",
    "\n",
    "# Get the best model from grid search\n",
    "best_model = grid_search.best_estimator_\n",
    "\n",
    "# Make predictions on the testing data using the best model\n",
    "y_pred = best_model.predict(X_test)\n",
    "\n",
    "# Calculate evaluation metrics\n",
    "accuracy = accuracy_score(y_test, y_pred)\n",
    "precision = precision_score(y_test, y_pred)\n",
    "recall = recall_score(y_test, y_pred)\n",
    "f1 = f1_score(y_test, y_pred)\n",
    "auc = roc_auc_score(y_test, y_pred)\n",
    "\n",
    "# Print the evaluation metrics\n",
    "print(\"F1-score:\", f\"{round(f1*100,2)}%\")\n",
    "print(\"Precision:\", f\"{round(precision*100,2)}%\")\n",
    "print(\"Recall:\", f\"{round(recall*100,2)}%\")\n",
    "print(\"Accuracy:\", f\"{round(accuracy*100,2)}%\")"
   ]
  },
  {
   "cell_type": "markdown",
   "metadata": {},
   "source": [
    "#### Model results interpretation - Metric used\n",
    "Our main metric of interest is the F1-score which combines precision and recall into a single value and so provides a balanced assessment of a model's accuracy.\n",
    "\n",
    "We only see a minor improvement in model results by using grid search. Alternative algorithms or enemble models may be tested to see if they work better for our use case. We may also go through additional feature engineering exercises to see if the model will perform better given different information. "
   ]
  },
  {
   "cell_type": "markdown",
   "metadata": {},
   "source": [
    "## Model Result Visualization\n",
    "The below confusion matrix provides a visual representation of the model's performance by showing the counts of true positive, true negative, false positive, and false negative predictions."
   ]
  },
  {
   "cell_type": "code",
   "execution_count": 169,
   "metadata": {},
   "outputs": [
    {
     "data": {
      "image/png": "[encoded data removed]",
      "text/plain": [
       "<Figure size 800x600 with 1 Axes>"
      ]
     },
     "metadata": {},
     "output_type": "display_data"
    }
   ],
   "source": [
    "import matplotlib.pyplot as plt\n",
    "import seaborn as sns\n",
    "from sklearn.metrics import confusion_matrix\n",
    "\n",
    "# Confusion matrix\n",
    "cm = confusion_matrix(y_test, y_pred)\n",
    "\n",
    "# Create a heatmap for the confusion matrix\n",
    "plt.figure(figsize=(8, 6))\n",
    "sns.heatmap(cm, annot=True, fmt=\"d\", cmap=\"Blues\", cbar=False)\n",
    "plt.title(\"Confusion Matrix\")\n",
    "plt.xlabel(\"Predicted Labels\")\n",
    "plt.ylabel(\"True Labels\")\n",
    "plt.show()\n"
   ]
  },
  {
   "cell_type": "markdown",
   "metadata": {},
   "source": [
    "The confusion matrix indicates that there were 5144 True Positives in the model results and 3193 True Negatives."
   ]
  },
  {
   "cell_type": "markdown",
   "metadata": {},
   "source": [
    "## Transactions Analysis (Future work)\n",
    "Now that we can predict if a user will complete and offer, it will be useful to see which users are the customers with the highest transaction values. This may be useful to see which offers these users respond to best.\n"
   ]
  },
  {
   "cell_type": "code",
   "execution_count": 170,
   "metadata": {},
   "outputs": [
    {
     "data": {
      "text/html": [
       "<div>\n",
       "<style scoped>\n",
       "    .dataframe tbody tr th:only-of-type {\n",
       "        vertical-align: middle;\n",
       "    }\n",
       "\n",
       "    .dataframe tbody tr th {\n",
       "        vertical-align: top;\n",
       "    }\n",
       "\n",
       "    .dataframe thead th {\n",
       "        text-align: right;\n",
       "    }\n",
       "</style>\n",
       "<table border=\"1\" class=\"dataframe\">\n",
       "  <thead>\n",
       "    <tr style=\"text-align: right;\">\n",
       "      <th></th>\n",
       "      <th>event</th>\n",
       "      <th>time</th>\n",
       "      <th>amount</th>\n",
       "      <th>age</th>\n",
       "      <th>user_id</th>\n",
       "      <th>income</th>\n",
       "      <th>days_as_member</th>\n",
       "      <th>F</th>\n",
       "      <th>M</th>\n",
       "      <th>O</th>\n",
       "      <th>bogo</th>\n",
       "      <th>discount</th>\n",
       "      <th>informational</th>\n",
       "    </tr>\n",
       "  </thead>\n",
       "  <tbody>\n",
       "    <tr>\n",
       "      <th>189126</th>\n",
       "      <td>transaction</td>\n",
       "      <td>462</td>\n",
       "      <td>8.39</td>\n",
       "      <td>89.0</td>\n",
       "      <td>4c0b938c4e994b168f0062d7dbb79796</td>\n",
       "      <td>59000.0</td>\n",
       "      <td>2897.0</td>\n",
       "      <td>1.0</td>\n",
       "      <td>0.0</td>\n",
       "      <td>0.0</td>\n",
       "      <td>NaN</td>\n",
       "      <td>NaN</td>\n",
       "      <td>NaN</td>\n",
       "    </tr>\n",
       "    <tr>\n",
       "      <th>43604</th>\n",
       "      <td>transaction</td>\n",
       "      <td>108</td>\n",
       "      <td>26.62</td>\n",
       "      <td>83.0</td>\n",
       "      <td>5e4c04da5ccb48beab8b5644c14dabb2</td>\n",
       "      <td>115000.0</td>\n",
       "      <td>2835.0</td>\n",
       "      <td>1.0</td>\n",
       "      <td>0.0</td>\n",
       "      <td>0.0</td>\n",
       "      <td>NaN</td>\n",
       "      <td>NaN</td>\n",
       "      <td>NaN</td>\n",
       "    </tr>\n",
       "    <tr>\n",
       "      <th>80934</th>\n",
       "      <td>transaction</td>\n",
       "      <td>198</td>\n",
       "      <td>25.94</td>\n",
       "      <td>59.0</td>\n",
       "      <td>5cb65af515664bb0b39cdaa089244dc7</td>\n",
       "      <td>98000.0</td>\n",
       "      <td>2612.0</td>\n",
       "      <td>0.0</td>\n",
       "      <td>1.0</td>\n",
       "      <td>0.0</td>\n",
       "      <td>NaN</td>\n",
       "      <td>NaN</td>\n",
       "      <td>NaN</td>\n",
       "    </tr>\n",
       "    <tr>\n",
       "      <th>46338</th>\n",
       "      <td>transaction</td>\n",
       "      <td>120</td>\n",
       "      <td>8.13</td>\n",
       "      <td>40.0</td>\n",
       "      <td>6bb901d063a64c779320265b2aaeaee9</td>\n",
       "      <td>72000.0</td>\n",
       "      <td>2094.0</td>\n",
       "      <td>0.0</td>\n",
       "      <td>1.0</td>\n",
       "      <td>0.0</td>\n",
       "      <td>NaN</td>\n",
       "      <td>NaN</td>\n",
       "      <td>NaN</td>\n",
       "    </tr>\n",
       "    <tr>\n",
       "      <th>43003</th>\n",
       "      <td>transaction</td>\n",
       "      <td>102</td>\n",
       "      <td>13.46</td>\n",
       "      <td>25.0</td>\n",
       "      <td>4e9ba44fd1f54cfea60e2ef903c71b7f</td>\n",
       "      <td>70000.0</td>\n",
       "      <td>2786.0</td>\n",
       "      <td>1.0</td>\n",
       "      <td>0.0</td>\n",
       "      <td>0.0</td>\n",
       "      <td>NaN</td>\n",
       "      <td>NaN</td>\n",
       "      <td>NaN</td>\n",
       "    </tr>\n",
       "  </tbody>\n",
       "</table>\n",
       "</div>"
      ],
      "text/plain": [
       "              event  time  amount   age                           user_id  \\\n",
       "189126  transaction   462    8.39  89.0  4c0b938c4e994b168f0062d7dbb79796   \n",
       "43604   transaction   108   26.62  83.0  5e4c04da5ccb48beab8b5644c14dabb2   \n",
       "80934   transaction   198   25.94  59.0  5cb65af515664bb0b39cdaa089244dc7   \n",
       "46338   transaction   120    8.13  40.0  6bb901d063a64c779320265b2aaeaee9   \n",
       "43003   transaction   102   13.46  25.0  4e9ba44fd1f54cfea60e2ef903c71b7f   \n",
       "\n",
       "          income  days_as_member    F    M    O  bogo  discount  informational  \n",
       "189126   59000.0          2897.0  1.0  0.0  0.0   NaN       NaN            NaN  \n",
       "43604   115000.0          2835.0  1.0  0.0  0.0   NaN       NaN            NaN  \n",
       "80934    98000.0          2612.0  0.0  1.0  0.0   NaN       NaN            NaN  \n",
       "46338    72000.0          2094.0  0.0  1.0  0.0   NaN       NaN            NaN  \n",
       "43003    70000.0          2786.0  1.0  0.0  0.0   NaN       NaN            NaN  "
      ]
     },
     "execution_count": 170,
     "metadata": {},
     "output_type": "execute_result"
    }
   ],
   "source": [
    "transaction_df.sample(n=5)"
   ]
  },
  {
   "cell_type": "code",
   "execution_count": 171,
   "metadata": {},
   "outputs": [
    {
     "data": {
      "text/html": [
       "<div>\n",
       "<style scoped>\n",
       "    .dataframe tbody tr th:only-of-type {\n",
       "        vertical-align: middle;\n",
       "    }\n",
       "\n",
       "    .dataframe tbody tr th {\n",
       "        vertical-align: top;\n",
       "    }\n",
       "\n",
       "    .dataframe thead th {\n",
       "        text-align: right;\n",
       "    }\n",
       "</style>\n",
       "<table border=\"1\" class=\"dataframe\">\n",
       "  <thead>\n",
       "    <tr style=\"text-align: right;\">\n",
       "      <th></th>\n",
       "      <th>amount</th>\n",
       "    </tr>\n",
       "  </thead>\n",
       "  <tbody>\n",
       "    <tr>\n",
       "      <th>amount</th>\n",
       "      <td>1.000000</td>\n",
       "    </tr>\n",
       "    <tr>\n",
       "      <th>income</th>\n",
       "      <td>0.237198</td>\n",
       "    </tr>\n",
       "    <tr>\n",
       "      <th>age</th>\n",
       "      <td>0.091624</td>\n",
       "    </tr>\n",
       "    <tr>\n",
       "      <th>F</th>\n",
       "      <td>0.089546</td>\n",
       "    </tr>\n",
       "    <tr>\n",
       "      <th>time</th>\n",
       "      <td>0.005502</td>\n",
       "    </tr>\n",
       "    <tr>\n",
       "      <th>O</th>\n",
       "      <td>0.003051</td>\n",
       "    </tr>\n",
       "    <tr>\n",
       "      <th>days_as_member</th>\n",
       "      <td>-0.033388</td>\n",
       "    </tr>\n",
       "    <tr>\n",
       "      <th>M</th>\n",
       "      <td>-0.089781</td>\n",
       "    </tr>\n",
       "    <tr>\n",
       "      <th>bogo</th>\n",
       "      <td>NaN</td>\n",
       "    </tr>\n",
       "    <tr>\n",
       "      <th>discount</th>\n",
       "      <td>NaN</td>\n",
       "    </tr>\n",
       "    <tr>\n",
       "      <th>informational</th>\n",
       "      <td>NaN</td>\n",
       "    </tr>\n",
       "  </tbody>\n",
       "</table>\n",
       "</div>"
      ],
      "text/plain": [
       "                  amount\n",
       "amount          1.000000\n",
       "income          0.237198\n",
       "age             0.091624\n",
       "F               0.089546\n",
       "time            0.005502\n",
       "O               0.003051\n",
       "days_as_member -0.033388\n",
       "M              -0.089781\n",
       "bogo                 NaN\n",
       "discount             NaN\n",
       "informational        NaN"
      ]
     },
     "execution_count": 171,
     "metadata": {},
     "output_type": "execute_result"
    }
   ],
   "source": [
    "# create a correlation matrix with amount\n",
    "amount_corr = transaction_df.corr()[['amount']].sort_values(by='amount', ascending=False)\n",
    "amount_corr"
   ]
  },
  {
   "cell_type": "code",
   "execution_count": 172,
   "metadata": {},
   "outputs": [
    {
     "data": {
      "text/html": [
       "<div>\n",
       "<style scoped>\n",
       "    .dataframe tbody tr th:only-of-type {\n",
       "        vertical-align: middle;\n",
       "    }\n",
       "\n",
       "    .dataframe tbody tr th {\n",
       "        vertical-align: top;\n",
       "    }\n",
       "\n",
       "    .dataframe thead th {\n",
       "        text-align: right;\n",
       "    }\n",
       "</style>\n",
       "<table border=\"1\" class=\"dataframe\">\n",
       "  <thead>\n",
       "    <tr style=\"text-align: right;\">\n",
       "      <th></th>\n",
       "      <th>event</th>\n",
       "      <th>time</th>\n",
       "      <th>amount</th>\n",
       "      <th>age</th>\n",
       "      <th>user_id</th>\n",
       "      <th>income</th>\n",
       "      <th>days_as_member</th>\n",
       "      <th>F</th>\n",
       "      <th>M</th>\n",
       "      <th>O</th>\n",
       "      <th>bogo</th>\n",
       "      <th>discount</th>\n",
       "      <th>informational</th>\n",
       "    </tr>\n",
       "  </thead>\n",
       "  <tbody>\n",
       "    <tr>\n",
       "      <th>38957</th>\n",
       "      <td>transaction</td>\n",
       "      <td>84</td>\n",
       "      <td>1.00</td>\n",
       "      <td>26.0</td>\n",
       "      <td>27573d3ebc154a48a9cd245ae16b71a2</td>\n",
       "      <td>34000.0</td>\n",
       "      <td>1971.0</td>\n",
       "      <td>0.0</td>\n",
       "      <td>1.0</td>\n",
       "      <td>0.0</td>\n",
       "      <td>NaN</td>\n",
       "      <td>NaN</td>\n",
       "      <td>NaN</td>\n",
       "    </tr>\n",
       "    <tr>\n",
       "      <th>107542</th>\n",
       "      <td>transaction</td>\n",
       "      <td>312</td>\n",
       "      <td>3.66</td>\n",
       "      <td>26.0</td>\n",
       "      <td>27573d3ebc154a48a9cd245ae16b71a2</td>\n",
       "      <td>34000.0</td>\n",
       "      <td>1971.0</td>\n",
       "      <td>0.0</td>\n",
       "      <td>1.0</td>\n",
       "      <td>0.0</td>\n",
       "      <td>NaN</td>\n",
       "      <td>NaN</td>\n",
       "      <td>NaN</td>\n",
       "    </tr>\n",
       "    <tr>\n",
       "      <th>110383</th>\n",
       "      <td>transaction</td>\n",
       "      <td>330</td>\n",
       "      <td>5.81</td>\n",
       "      <td>26.0</td>\n",
       "      <td>27573d3ebc154a48a9cd245ae16b71a2</td>\n",
       "      <td>34000.0</td>\n",
       "      <td>1971.0</td>\n",
       "      <td>0.0</td>\n",
       "      <td>1.0</td>\n",
       "      <td>0.0</td>\n",
       "      <td>NaN</td>\n",
       "      <td>NaN</td>\n",
       "      <td>NaN</td>\n",
       "    </tr>\n",
       "    <tr>\n",
       "      <th>282668</th>\n",
       "      <td>transaction</td>\n",
       "      <td>624</td>\n",
       "      <td>2.31</td>\n",
       "      <td>26.0</td>\n",
       "      <td>27573d3ebc154a48a9cd245ae16b71a2</td>\n",
       "      <td>34000.0</td>\n",
       "      <td>1971.0</td>\n",
       "      <td>0.0</td>\n",
       "      <td>1.0</td>\n",
       "      <td>0.0</td>\n",
       "      <td>NaN</td>\n",
       "      <td>NaN</td>\n",
       "      <td>NaN</td>\n",
       "    </tr>\n",
       "  </tbody>\n",
       "</table>\n",
       "</div>"
      ],
      "text/plain": [
       "              event  time  amount   age                           user_id  \\\n",
       "38957   transaction    84    1.00  26.0  27573d3ebc154a48a9cd245ae16b71a2   \n",
       "107542  transaction   312    3.66  26.0  27573d3ebc154a48a9cd245ae16b71a2   \n",
       "110383  transaction   330    5.81  26.0  27573d3ebc154a48a9cd245ae16b71a2   \n",
       "282668  transaction   624    2.31  26.0  27573d3ebc154a48a9cd245ae16b71a2   \n",
       "\n",
       "         income  days_as_member    F    M    O  bogo  discount  informational  \n",
       "38957   34000.0          1971.0  0.0  1.0  0.0   NaN       NaN            NaN  \n",
       "107542  34000.0          1971.0  0.0  1.0  0.0   NaN       NaN            NaN  \n",
       "110383  34000.0          1971.0  0.0  1.0  0.0   NaN       NaN            NaN  \n",
       "282668  34000.0          1971.0  0.0  1.0  0.0   NaN       NaN            NaN  "
      ]
     },
     "execution_count": 172,
     "metadata": {},
     "output_type": "execute_result"
    }
   ],
   "source": [
    "transaction_df[transaction_df.user_id =='27573d3ebc154a48a9cd245ae16b71a2']"
   ]
  },
  {
   "cell_type": "code",
   "execution_count": 173,
   "metadata": {},
   "outputs": [
    {
     "data": {
      "text/html": [
       "<div>\n",
       "<style scoped>\n",
       "    .dataframe tbody tr th:only-of-type {\n",
       "        vertical-align: middle;\n",
       "    }\n",
       "\n",
       "    .dataframe tbody tr th {\n",
       "        vertical-align: top;\n",
       "    }\n",
       "\n",
       "    .dataframe thead th {\n",
       "        text-align: right;\n",
       "    }\n",
       "</style>\n",
       "<table border=\"1\" class=\"dataframe\">\n",
       "  <thead>\n",
       "    <tr style=\"text-align: right;\">\n",
       "      <th></th>\n",
       "      <th>user_id</th>\n",
       "      <th>amount</th>\n",
       "    </tr>\n",
       "  </thead>\n",
       "  <tbody>\n",
       "    <tr>\n",
       "      <th>0</th>\n",
       "      <td>0009655768c64bdeb2e877511632db8f</td>\n",
       "      <td>127.60</td>\n",
       "    </tr>\n",
       "    <tr>\n",
       "      <th>1</th>\n",
       "      <td>0011e0d4e6b944f998e987f904e8c1e5</td>\n",
       "      <td>79.46</td>\n",
       "    </tr>\n",
       "    <tr>\n",
       "      <th>2</th>\n",
       "      <td>0020c2b971eb4e9188eac86d93036a77</td>\n",
       "      <td>196.86</td>\n",
       "    </tr>\n",
       "    <tr>\n",
       "      <th>3</th>\n",
       "      <td>0020ccbbb6d84e358d3414a3ff76cffd</td>\n",
       "      <td>154.05</td>\n",
       "    </tr>\n",
       "    <tr>\n",
       "      <th>4</th>\n",
       "      <td>003d66b6608740288d6cc97a6903f4f0</td>\n",
       "      <td>48.34</td>\n",
       "    </tr>\n",
       "  </tbody>\n",
       "</table>\n",
       "</div>"
      ],
      "text/plain": [
       "                            user_id  amount\n",
       "0  0009655768c64bdeb2e877511632db8f  127.60\n",
       "1  0011e0d4e6b944f998e987f904e8c1e5   79.46\n",
       "2  0020c2b971eb4e9188eac86d93036a77  196.86\n",
       "3  0020ccbbb6d84e358d3414a3ff76cffd  154.05\n",
       "4  003d66b6608740288d6cc97a6903f4f0   48.34"
      ]
     },
     "execution_count": 173,
     "metadata": {},
     "output_type": "execute_result"
    }
   ],
   "source": [
    "# group the transactions by user_id and sum the amount\n",
    "transaction_df_group = transaction_df.groupby('user_id').agg({'amount': 'sum'}).reset_index()\n",
    "transaction_df_group.head()"
   ]
  },
  {
   "cell_type": "code",
   "execution_count": 174,
   "metadata": {},
   "outputs": [],
   "source": [
    "# Future to-do, analyse which customers spend the most and target them with offers"
   ]
  }
 ],
 "metadata": {
  "kernelspec": {
   "display_name": "venv",
   "language": "python",
   "name": "python3"
  },
  "language_info": {
   "codemirror_mode": {
    "name": "ipython",
    "version": 3
   },
   "file_extension": ".py",
   "mimetype": "text/x-python",
   "name": "python",
   "nbconvert_exporter": "python",
   "pygments_lexer": "ipython3",
   "version": "3.10.6"
  },
  "orig_nbformat": 4
 },
 "nbformat": 4,
 "nbformat_minor": 2
}
